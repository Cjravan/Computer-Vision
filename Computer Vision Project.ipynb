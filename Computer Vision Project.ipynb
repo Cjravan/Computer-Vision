{
 "cells": [
  {
   "cell_type": "code",
   "execution_count": null,
   "id": "46dd07c6",
   "metadata": {},
   "outputs": [],
   "source": [
    "import os\n",
    "import numpy as np\n",
    "import cv2\n",
    "import tensorflow as tf\n",
    "from tensorflow import keras\n",
    "from tensorflow.keras import layers, models\n",
    "from tensorflow.keras.applications import ResNet50\n",
    "from tensorflow.keras.preprocessing.image import ImageDataGenerator\n",
    "from tensorflow.keras.preprocessing.image import img_to_array, load_img\n",
    "from sklearn.metrics import classification_report"
   ]
  },
  {
   "cell_type": "code",
   "execution_count": null,
   "id": "82ba8536",
   "metadata": {},
   "outputs": [],
   "source": [
    "# que -1"
   ]
  },
  {
   "cell_type": "code",
   "execution_count": null,
   "id": "71f4a344",
   "metadata": {},
   "outputs": [],
   "source": [
    "# Directory path\n",
    "data_dir = r'C:\\Users\\Harshit\\Downloads\\House Dataset\\House Dataset\\Training'\n",
    "\n",
    "# List of subdirectories (classes)\n",
    "classes = ['House', 'Not House']\n",
    "\n",
    "# Loop through each class\n",
    "for class_name in classes:\n",
    "    class_dir = os.path.join(data_dir, class_name)\n",
    "    \n",
    "    # Loop through images in the class directory\n",
    "    for filename in os.listdir(class_dir):\n",
    "        if filename.endswith('.jpg'):\n",
    "            # Construct the full image path\n",
    "            image_path = os.path.join(class_dir, filename)\n",
    "            \n",
    "            # Read the image using OpenCV\n",
    "            image = cv2.imread(image_path)\n",
    "            \n",
    "            # Display the image\n",
    "            plt.imshow(cv2.cvtColor(image, cv2.COLOR_BGR2RGB))\n",
    "            plt.title(class_name)\n",
    "            plt.axis('off')\n",
    "            plt.show()\n",
    "\n"
   ]
  },
  {
   "cell_type": "code",
   "execution_count": null,
   "id": "8b55ed01",
   "metadata": {},
   "outputs": [],
   "source": [
    "data_dir = r'C:\\Users\\Harshit\\Downloads\\House Dataset\\House Dataset\\Training'\n",
    "train_dir = data_dir  # The root directory containing 'House' and 'Not House' subdirectories"
   ]
  },
  {
   "cell_type": "code",
   "execution_count": null,
   "id": "f4d20219",
   "metadata": {},
   "outputs": [],
   "source": [
    "# Parameters\n",
    "batch_size = 32\n",
    "image_size = (224, 224)\n",
    "epochs = 10"
   ]
  },
  {
   "cell_type": "code",
   "execution_count": null,
   "id": "b22a0e18",
   "metadata": {},
   "outputs": [],
   "source": [
    "# Data augmentation and preprocessing\n",
    "train_datagen = ImageDataGenerator(\n",
    "    rescale=1.0 / 255,\n",
    "    rotation_range=20,\n",
    "    width_shift_range=0.2,\n",
    "    height_shift_range=0.2,\n",
    "    shear_range=0.2,\n",
    "    zoom_range=0.2,\n",
    "    horizontal_flip=True,\n",
    "    fill_mode='nearest'\n",
    ")"
   ]
  },
  {
   "cell_type": "code",
   "execution_count": null,
   "id": "7d46ee60",
   "metadata": {},
   "outputs": [],
   "source": [
    "train_generator = train_datagen.flow_from_directory(\n",
    "    train_dir,\n",
    "    target_size=image_size,\n",
    "    batch_size=batch_size,\n",
    "    class_mode='categorical'\n",
    ")"
   ]
  },
  {
   "cell_type": "code",
   "execution_count": null,
   "id": "0718e4dc",
   "metadata": {},
   "outputs": [],
   "source": [
    "# Load ResNet-50 pre-trained model (excluding the top classification layers)\n",
    "base_model = ResNet50(weights='imagenet', include_top=False, input_shape=(224, 224, 3))"
   ]
  },
  {
   "cell_type": "code",
   "execution_count": null,
   "id": "23627258",
   "metadata": {},
   "outputs": [],
   "source": [
    "# Build the classification head\n",
    "model = models.Sequential()\n",
    "model.add(base_model)\n",
    "model.add(layers.GlobalAveragePooling2D())\n",
    "model.add(layers.Dense(128, activation='relu'))\n",
    "model.add(layers.Dropout(0.5))\n",
    "model.add(layers.Dense(2, activation='softmax'))  # Two classes: 'House' and 'Not House'"
   ]
  },
  {
   "cell_type": "code",
   "execution_count": null,
   "id": "3bdd15fb",
   "metadata": {},
   "outputs": [],
   "source": [
    "# Compile the model\n",
    "model.compile(optimizer='adam', loss='categorical_crossentropy', metrics=['accuracy'])"
   ]
  },
  {
   "cell_type": "code",
   "execution_count": null,
   "id": "eccb52a4",
   "metadata": {},
   "outputs": [],
   "source": [
    "# Train the model\n",
    "history = model.fit(\n",
    "    train_generator,\n",
    "    steps_per_epoch=train_generator.samples // batch_size,\n",
    "    epochs=epochs\n",
    ")"
   ]
  },
  {
   "cell_type": "code",
   "execution_count": null,
   "id": "14b59173",
   "metadata": {},
   "outputs": [],
   "source": [
    "# Save the trained model\n",
    "model.save('house_classification_model.h5')"
   ]
  },
  {
   "cell_type": "code",
   "execution_count": null,
   "id": "c6f110ee",
   "metadata": {},
   "outputs": [],
   "source": [
    "# Load the trained model\n",
    "model = keras.models.load_model('house_classification_model.h5')"
   ]
  },
  {
   "cell_type": "code",
   "execution_count": null,
   "id": "058e403f",
   "metadata": {},
   "outputs": [],
   "source": [
    "test_dir = r'C:\\Users\\Harshit\\Downloads\\House Dataset\\House Dataset\\Testing'"
   ]
  },
  {
   "cell_type": "code",
   "execution_count": null,
   "id": "044fa4bd",
   "metadata": {},
   "outputs": [],
   "source": [
    "# Parameters\n",
    "image_size = (224, 224)"
   ]
  },
  {
   "cell_type": "code",
   "execution_count": null,
   "id": "7d7d144a",
   "metadata": {},
   "outputs": [],
   "source": [
    "# Get list of image filenames\n",
    "image_filenames = [filename for filename in os.listdir(test_dir) if filename.lower().endswith(('.jpg', '.jpeg', '.png'))]"
   ]
  },
  {
   "cell_type": "code",
   "execution_count": null,
   "id": "f5920c60",
   "metadata": {},
   "outputs": [],
   "source": [
    "# Predict and print class labels for each image\n",
    "for filename in image_filenames:\n",
    "    image_path = os.path.join(test_dir, filename)\n",
    "    \n",
    "    # Load and preprocess the image\n",
    "    image = load_img(image_path, target_size=image_size)\n",
    "    image_array = img_to_array(image)\n",
    "    image_array = image_array / 255.0  # Rescale pixel values to [0, 1]\n",
    "    image_array = np.expand_dims(image_array, axis=0)  # Add batch dimension\n",
    "    \n",
    "    # Make prediction\n",
    "    prediction = model.predict(image_array)\n",
    "    predicted_class_index = np.argmax(prediction)"
   ]
  },
  {
   "cell_type": "code",
   "execution_count": null,
   "id": "345307af",
   "metadata": {},
   "outputs": [],
   "source": [
    "# Determine and print the predicted class label\n",
    "predicted_class_label = 'House' if predicted_class_index == 0 else 'Not House'\n",
    "print(f\"Image: {filename} - Predicted class: {predicted_class_label}\")"
   ]
  },
  {
   "cell_type": "code",
   "execution_count": null,
   "id": "65bbccf3",
   "metadata": {},
   "outputs": [],
   "source": [
    "# que - 2"
   ]
  },
  {
   "cell_type": "code",
   "execution_count": null,
   "id": "4c4ff845",
   "metadata": {},
   "outputs": [],
   "source": [
    "from random import sample\n",
    "\n",
    "# Directory where the downloaded images are stored\n",
    "image_dir = r\"C:\\Users\\Harshit\\random_images\"\n",
    "\n",
    "# List of image filenames\n",
    "image_filenames = os.listdir(image_dir)"
   ]
  },
  {
   "cell_type": "code",
   "execution_count": null,
   "id": "a95be48b",
   "metadata": {},
   "outputs": [],
   "source": [
    "# Choose 10 random images\n",
    "random_image_filenames = sample(image_filenames, 10)"
   ]
  },
  {
   "cell_type": "code",
   "execution_count": null,
   "id": "7017f76e",
   "metadata": {},
   "outputs": [],
   "source": [
    "# Plot histograms for each random image\n",
    "for filename in random_image_filenames:\n",
    "    # Load the image\n",
    "    image_path = os.path.join(image_dir, filename)\n",
    "    image = cv2.imread(image_path)"
   ]
  },
  {
   "cell_type": "code",
   "execution_count": null,
   "id": "60326b09",
   "metadata": {},
   "outputs": [],
   "source": [
    "# Calculate histograms for each channel\n",
    "hist_r = cv2.calcHist([image], [0], None, [256], [0, 256])\n",
    "hist_g = cv2.calcHist([image], [1], None, [256], [0, 256])\n",
    "hist_b = cv2.calcHist([image], [2], None, [256], [0, 256])"
   ]
  },
  {
   "cell_type": "code",
   "execution_count": null,
   "id": "ff15277e",
   "metadata": {},
   "outputs": [],
   "source": [
    "# Plot histograms\n",
    "plt.figure(figsize=(10, 6))\n",
    "plt.title(filename)\n",
    "plt.subplot(311)\n",
    "plt.plot(hist_r, color='red')\n",
    "plt.xlim([0, 256])\n",
    "plt.ylabel('Frequency')\n",
    "plt.subplot(312)\n",
    "plt.plot(hist_g, color='green')\n",
    "plt.xlim([0, 256])\n",
    "plt.ylabel('Frequency')\n",
    "plt.subplot(313)\n",
    "plt.plot(hist_b, color='blue')\n",
    "plt.xlim([0, 256])\n",
    "plt.xlabel('Pixel Value')\n",
    "plt.ylabel('Frequency')\n",
    "plt.tight_layout()\n",
    "plt.show()"
   ]
  },
  {
   "cell_type": "code",
   "execution_count": null,
   "id": "b26f34f0",
   "metadata": {},
   "outputs": [],
   "source": [
    "# que - 3"
   ]
  },
  {
   "cell_type": "code",
   "execution_count": null,
   "id": "29c5c740",
   "metadata": {},
   "outputs": [],
   "source": [
    "import random\n",
    "# Directory where the downloaded images are stored\n",
    "image_dir = r\"C:\\Users\\Harshit\\random_images\""
   ]
  },
  {
   "cell_type": "code",
   "execution_count": null,
   "id": "adb098f2",
   "metadata": {},
   "outputs": [],
   "source": [
    "# List of image filenames\n",
    "image_filenames = os.listdir(image_dir)"
   ]
  },
  {
   "cell_type": "code",
   "execution_count": null,
   "id": "2e5798c8",
   "metadata": {},
   "outputs": [],
   "source": [
    "# Choose 5 random images\n",
    "random_image_filenames = random.sample(image_filenames, 5)"
   ]
  },
  {
   "cell_type": "code",
   "execution_count": null,
   "id": "8c689c25",
   "metadata": {},
   "outputs": [],
   "source": [
    "# Operations\n",
    "operations = ['Rotate 90 degrees', 'Flip', 'Blur', 'Resize', 'Shift']"
   ]
  },
  {
   "cell_type": "code",
   "execution_count": null,
   "id": "87ccc0c2",
   "metadata": {},
   "outputs": [],
   "source": [
    "# Perform operations on each random image\n",
    "for filename in random_image_filenames:\n",
    "    # Load the image\n",
    "    image_path = os.path.join(image_dir, filename)\n",
    "    original_image = cv2.imread(image_path)\n",
    "    \n",
    "    # Create a figure for subplots\n",
    "    plt.figure(figsize=(15, 3))\n",
    "    \n",
    "    # Plot the original image\n",
    "    plt.subplot(1, 6, 1)\n",
    "    plt.imshow(cv2.cvtColor(original_image, cv2.COLOR_BGR2RGB))\n",
    "    plt.title('Original')\n",
    "    plt.axis('off')\n",
    "    \n",
    "    # Perform and plot each operation\n",
    "    for i, operation in enumerate(operations):\n",
    "        image = original_image.copy()\n",
    "        if operation == 'Rotate 90 degrees':\n",
    "            image = cv2.rotate(image, cv2.ROTATE_90_CLOCKWISE)\n",
    "        elif operation == 'Flip':\n",
    "            image = cv2.flip(image, 1)  # Flip horizontally\n",
    "        elif operation == 'Blur':\n",
    "            image = cv2.GaussianBlur(image, (5, 5), 0)\n",
    "        elif operation == 'Resize':\n",
    "            image = cv2.resize(image, None, fx=0.5, fy=0.5)\n",
    "        elif operation == 'Shift':\n",
    "            M = np.float32([[1, 0, 100], [0, 1, 100]])  # X and Y shift by 100 pixels\n",
    "            image = cv2.warpAffine(image, M, (image.shape[1], image.shape[0]))\n",
    "        \n",
    "        # Plot the modified image\n",
    "        plt.subplot(1, 6, i + 2)\n",
    "        plt.imshow(cv2.cvtColor(image, cv2.COLOR_BGR2RGB))\n",
    "        plt.title(operation)\n",
    "        plt.axis('off')\n",
    "    \n",
    "    plt.tight_layout()\n",
    "    plt.show()"
   ]
  },
  {
   "cell_type": "code",
   "execution_count": null,
   "id": "f50217d4",
   "metadata": {},
   "outputs": [],
   "source": [
    "# que - 4"
   ]
  },
  {
   "cell_type": "code",
   "execution_count": null,
   "id": "4e14f739",
   "metadata": {},
   "outputs": [],
   "source": [
    "# Load the video\n",
    "video_path = r\"C:\\Users\\Harshit\\Videos\\IMG_0073.MOV\" \n",
    "cap = cv2.VideoCapture(video_path)"
   ]
  },
  {
   "cell_type": "code",
   "execution_count": null,
   "id": "70b89743",
   "metadata": {},
   "outputs": [],
   "source": [
    "# Check if the video was loaded successfully\n",
    "if not cap.isOpened():\n",
    "    print(\"Error opening video file\")\n",
    "    exit()"
   ]
  },
  {
   "cell_type": "code",
   "execution_count": null,
   "id": "8ce7a3f0",
   "metadata": {},
   "outputs": [],
   "source": [
    "from IPython.display import display, clear_output\n",
    "from PIL import Image\n",
    "\n",
    "# Decrease delay time for faster video playback\n",
    "delay_time = 1\n",
    "\n",
    "# Loop through the video frames\n",
    "while True:\n",
    "    ret, frame = cap.read()\n",
    "    if not ret:\n",
    "        break  # Break the loop when video ends\n",
    "\n",
    "    # Split the frame into its RGB channels\n",
    "    b, g, r = cv2.split(frame)\n",
    "    \n",
    "     # Stack the color channels horizontally for display\n",
    "    channels_display = cv2.hconcat([b, g, r])\n",
    "\n",
    "     # Convert the OpenCV frame to a format compatible with IPython.display\n",
    "    frame_rgb = cv2.cvtColor(channels_display, cv2.COLOR_BGR2RGB)\n",
    "    img_pil = Image.fromarray(frame_rgb)\n",
    "\n",
    "    # Display the frame with color channels in the notebook\n",
    "    clear_output(wait=True)\n",
    "    display(img_pil)\n",
    "\n",
    "    # Exit loop if 'q' key is pressed\n",
    "    if cv2.waitKey(delay_time) & 0xFF == ord('q'):\n",
    "        break\n",
    "\n",
    "# Release video capture and close the display\n",
    "cap.release()\n",
    "cv2.destroyAllWindows()"
   ]
  },
  {
   "cell_type": "code",
   "execution_count": null,
   "id": "bf155161",
   "metadata": {},
   "outputs": [],
   "source": []
  }
 ],
 "metadata": {
  "kernelspec": {
   "display_name": "Python 3 (ipykernel)",
   "language": "python",
   "name": "python3"
  },
  "language_info": {
   "codemirror_mode": {
    "name": "ipython",
    "version": 3
   },
   "file_extension": ".py",
   "mimetype": "text/x-python",
   "name": "python",
   "nbconvert_exporter": "python",
   "pygments_lexer": "ipython3",
   "version": "3.8.17"
  }
 },
 "nbformat": 4,
 "nbformat_minor": 5
}
